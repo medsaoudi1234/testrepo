{
 "cells": [
  {
   "cell_type": "markdown",
   "metadata": {},
   "source": [
    "<center><img src=\"https://cf-courses-data.s3.us.cloud-object-storage.appdomain.cloud/assets/logos/SN_web_lightmode.png\" width=\"300\"></center><br/>\n",
    "\n",
    "# Assignment: Notebook for Peer Assignment\n",
    "\n",
    "Estimated time needed: 60 minutes\n"
   ]
  },
  {
   "cell_type": "markdown",
   "metadata": {},
   "source": [
    "# Assignment Scenario\n",
    "\n",
    "Congratulations! You have just been hired by a US Weather forecast firm as a data scientist.\n",
    "\n",
    "The company is considering the weather condition to help predict the possibility of precipitations, which involves using various local climatological variables, including temperature, wind speed, humidity, dew point, and pressure. The data you will be handling was collected by a NOAA weather station located at the John F. Kennedy International Airport in Queens, New York.\n",
    "\n",
    "Your task is to provide a high level analysis of weather data in JFK Airport. Your stakeholders want to understand the current and historical record of precipitations based on different variables. For now they are mainly interested in a macro-view of JFK Airport Weather, and how it relates to the possibility to rain because it will affect flight delays and etc.\n"
   ]
  },
  {
   "cell_type": "markdown",
   "metadata": {},
   "source": [
    "# Introduction\n",
    "\n",
    "This project relates to the NOAA Weather Dataset - JFK Airport (New York). The original dataset contains 114,546 hourly observations of 12 local climatological variables (such as temperature and wind speed) collected at JFK airport. This dataset can be obtained for free from the IBM Developer [Data Asset Exchange](https://developer.ibm.com/exchanges/data/all/jfk-weather-data/). \n",
    "\n",
    "For this project, you will be using a subset dataset, which contains 5727 rows (about 5% or original rows) and 9 columns. The end goal will be to predict the precipitation using some of the available features. In this project, you will practice reading data files, preprocessing data, creating models, improving models and evaluating them to ultimately choose the best model.\n",
    "\n"
   ]
  },
  {
   "cell_type": "markdown",
   "metadata": {},
   "source": [
    "\n",
    "## Table of Contents:\n",
    "\n",
    "Using this R notebook you will complete **10 tasks**:\n",
    "* [0. Import Modules](#cell0)\n",
    "* [1. Download and Unzip NOAA Weather Dataset](#cell1)\n",
    "* [2. Read Dataset into Project](#cell2)\n",
    "* [3. Select Subset of Columns](#cell3)\n",
    "* [4. Clean Up Columns](#cell4)\n",
    "* [5. Convert Columns to Numerical Types](#cell5)\n",
    "* [6. Rename Columns](#cell6)\n",
    "* [7. Exploratory Data Analysis](#cell7)\n",
    "* [8. Linear Regression](#cell8)\n",
    "* [9. Improve the Model](#cell9)\n",
    "* [10. Find Best Model](#cell10)\n",
    "\n",
    "\n",
    "<a id=\"cell0\"></a>\n",
    "## 0. Import required modules\n",
    "\n",
    "Tidymodels is a collection of packages that use tidyverse principles to easily do the entire modeling process from preprocessing initial data, to creating a model, to tunning hyperparameters. The tidymodels packages can be used to produce high quality statistical and machine learning models. Our Jupyter notebook platforms have a built-in Tidyverse, Tidymodels and rlang packages so we do not need to install these packages prior to loading library. However, if you decide to run this lab on your RStudio Desktop locally on your machine, you can remove the commented lines of code to install these packages before loading.\n",
    " \n"
   ]
  },
  {
   "cell_type": "code",
   "execution_count": 1,
   "metadata": {},
   "outputs": [],
   "source": [
    "# Install tidymodels if you haven't done so\n",
    " #install.packages(\"rlang\")\n",
    "#install.packages(\"tidymodels\")"
   ]
  },
  {
   "cell_type": "markdown",
   "metadata": {},
   "source": [
    "**Note: After installing the packages, restart the kernel. Without installing the packages again, load them. Tidyverse and Tidymodels will be the two main packages you will use.**\n"
   ]
  },
  {
   "cell_type": "code",
   "execution_count": 2,
   "metadata": {},
   "outputs": [
    {
     "name": "stderr",
     "output_type": "stream",
     "text": [
      "── \u001b[1mAttaching packages\u001b[22m ────────────────────────────────────────────────────────────────────────────── tidymodels 1.1.1 ──\n",
      "\n",
      "\u001b[32m✔\u001b[39m \u001b[34mbroom       \u001b[39m 1.0.5      \u001b[32m✔\u001b[39m \u001b[34mrecipes     \u001b[39m 1.0.10\n",
      "\u001b[32m✔\u001b[39m \u001b[34mdials       \u001b[39m 1.2.1      \u001b[32m✔\u001b[39m \u001b[34mrsample     \u001b[39m 1.2.0 \n",
      "\u001b[32m✔\u001b[39m \u001b[34mdplyr       \u001b[39m 1.1.4      \u001b[32m✔\u001b[39m \u001b[34mtibble      \u001b[39m 3.2.1 \n",
      "\u001b[32m✔\u001b[39m \u001b[34mggplot2     \u001b[39m 3.4.4      \u001b[32m✔\u001b[39m \u001b[34mtidyr       \u001b[39m 1.3.0 \n",
      "\u001b[32m✔\u001b[39m \u001b[34minfer       \u001b[39m 1.0.6      \u001b[32m✔\u001b[39m \u001b[34mtune        \u001b[39m 1.1.2 \n",
      "\u001b[32m✔\u001b[39m \u001b[34mmodeldata   \u001b[39m 1.3.0      \u001b[32m✔\u001b[39m \u001b[34mworkflows   \u001b[39m 1.1.4 \n",
      "\u001b[32m✔\u001b[39m \u001b[34mparsnip     \u001b[39m 1.2.0      \u001b[32m✔\u001b[39m \u001b[34mworkflowsets\u001b[39m 1.0.1 \n",
      "\u001b[32m✔\u001b[39m \u001b[34mpurrr       \u001b[39m 1.0.2      \u001b[32m✔\u001b[39m \u001b[34myardstick   \u001b[39m 1.3.0 \n",
      "\n",
      "── \u001b[1mConflicts\u001b[22m ───────────────────────────────────────────────────────────────────────────────── tidymodels_conflicts() ──\n",
      "\u001b[31m✖\u001b[39m \u001b[34mpurrr\u001b[39m::\u001b[32mdiscard()\u001b[39m masks \u001b[34mscales\u001b[39m::discard()\n",
      "\u001b[31m✖\u001b[39m \u001b[34mdplyr\u001b[39m::\u001b[32mfilter()\u001b[39m  masks \u001b[34mstats\u001b[39m::filter()\n",
      "\u001b[31m✖\u001b[39m \u001b[34mdplyr\u001b[39m::\u001b[32mlag()\u001b[39m     masks \u001b[34mstats\u001b[39m::lag()\n",
      "\u001b[31m✖\u001b[39m \u001b[34mrecipes\u001b[39m::\u001b[32mstep()\u001b[39m  masks \u001b[34mstats\u001b[39m::step()\n",
      "\u001b[34m•\u001b[39m Learn how to get started at \u001b[32mhttps://www.tidymodels.org/start/\u001b[39m\n",
      "\n",
      "── \u001b[1mAttaching core tidyverse packages\u001b[22m ──────────────────────────────────────────────────────────────── tidyverse 2.0.0 ──\n",
      "\u001b[32m✔\u001b[39m \u001b[34mforcats  \u001b[39m 1.0.0     \u001b[32m✔\u001b[39m \u001b[34mreadr    \u001b[39m 2.1.4\n",
      "\u001b[32m✔\u001b[39m \u001b[34mlubridate\u001b[39m 1.9.3     \u001b[32m✔\u001b[39m \u001b[34mstringr  \u001b[39m 1.5.1\n",
      "── \u001b[1mConflicts\u001b[22m ────────────────────────────────────────────────────────────────────────────────── tidyverse_conflicts() ──\n",
      "\u001b[31m✖\u001b[39m \u001b[34mreadr\u001b[39m::\u001b[32mcol_factor()\u001b[39m masks \u001b[34mscales\u001b[39m::col_factor()\n",
      "\u001b[31m✖\u001b[39m \u001b[34mpurrr\u001b[39m::\u001b[32mdiscard()\u001b[39m    masks \u001b[34mscales\u001b[39m::discard()\n",
      "\u001b[31m✖\u001b[39m \u001b[34mdplyr\u001b[39m::\u001b[32mfilter()\u001b[39m     masks \u001b[34mstats\u001b[39m::filter()\n",
      "\u001b[31m✖\u001b[39m \u001b[34mstringr\u001b[39m::\u001b[32mfixed()\u001b[39m    masks \u001b[34mrecipes\u001b[39m::fixed()\n",
      "\u001b[31m✖\u001b[39m \u001b[34mdplyr\u001b[39m::\u001b[32mlag()\u001b[39m        masks \u001b[34mstats\u001b[39m::lag()\n",
      "\u001b[31m✖\u001b[39m \u001b[34mreadr\u001b[39m::\u001b[32mspec()\u001b[39m       masks \u001b[34myardstick\u001b[39m::spec()\n",
      "\u001b[36mℹ\u001b[39m Use the conflicted package (\u001b[3m\u001b[34m<http://conflicted.r-lib.org/>\u001b[39m\u001b[23m) to force all conflicts to become errors\n"
     ]
    }
   ],
   "source": [
    "# Library for modeling\n",
    "library(tidymodels)\n",
    "\n",
    "# Load tidyverse\n",
    "library(tidyverse)"
   ]
  },
  {
   "cell_type": "markdown",
   "metadata": {},
   "source": [
    "\n",
    "### Understand the Dataset\n",
    "\n",
    "The original NOAA JFK dataset contains 114,546 hourly observations of various local climatological variables (including temperature, wind speed, humidity, dew point, and pressure). \n",
    "\n",
    "In this project you will use a sample dataset, which is around 293 KB. [Link to the sample dataset](https://dax-cdn.cdn.appdomain.cloud/dax-noaa-weather-data-jfk-airport/1.1.4/noaa-weather-sample-data.tar.gz).\n",
    "\n",
    "The sample contains 5727 rows (about 5% or original rows) and 9 columns, which are:\n",
    "- DATE\n",
    "- HOURLYDewPointTempF\n",
    "- HOURLYRelativeHumidity\n",
    "- HOURLYDRYBULBTEMPF\n",
    "- HOURLYWETBULBTEMPF\n",
    "- HOURLYPrecip\n",
    "- HOURLYWindSpeed\n",
    "- HOURLYSeaLevelPressure\n",
    "- HOURLYStationPressure\n",
    "\n",
    "The original dataset is much bigger. Feel free to explore the original dataset. [Link to the original dataset.](https://dax-cdn.cdn.appdomain.cloud/dax-noaa-weather-data-jfk-airport/1.1.4/noaa_weather.html) \n",
    "\n",
    "For more information about the dataset, checkout the [preview](https://dax-cdn.cdn.appdomain.cloud/dax-noaa-weather-data-jfk-airport/1.1.4/data-preview/index.html?_ga=2.176781478.281508226.1616293518-1509963377.1616117067&cm_mc_uid=90945889198916153255549&cm_mc_sid_50200000=64650651616293516933) of NOAA Weather - JFK Airport.\n"
   ]
  },
  {
   "cell_type": "markdown",
   "metadata": {},
   "source": [
    "<a id=\"cell1\"></a>\n",
    "\n",
    "## 1. Download NOAA Weather Dataset\n",
    "\n",
    "Use the `download.file()` function to download the sample dataset from the URL below.\n",
    "\n",
    "URL = 'https://dax-cdn.cdn.appdomain.cloud/dax-noaa-weather-data-jfk-airport/1.1.4/noaa-weather-sample-data.tar.gz'\n"
   ]
  },
  {
   "cell_type": "code",
   "execution_count": 3,
   "metadata": {},
   "outputs": [],
   "source": [
    "url <- \"https://dax-cdn.cdn.appdomain.cloud/dax-noaa-weather-data-jfk-airport/1.1.4/noaa-weather-sample-data.tar.gz\"\n",
    "download.file(url, destfile = \"noaa-weather-sample-data.tar.gz\")"
   ]
  },
  {
   "cell_type": "markdown",
   "metadata": {},
   "source": [
    "Untar the zipped file.\n"
   ]
  },
  {
   "cell_type": "code",
   "execution_count": 4,
   "metadata": {},
   "outputs": [
    {
     "name": "stderr",
     "output_type": "stream",
     "text": [
      "Warning message in untar2(tarfile, files, list, exdir, restore_times):\n",
      "\"using pax extended headers\"\n"
     ]
    }
   ],
   "source": [
    "untar(\"noaa-weather-sample-data.tar.gz\" , tar = \"internal\")\n"
   ]
  },
  {
   "cell_type": "markdown",
   "metadata": {},
   "source": [
    "<a id=\"cell2\"></a>\n",
    "## 2. Extract and Read into Project\n",
    "We start by reading in the raw dataset. You should specify the file name as \"noaa-weather-sample-data/jfk_weather_sample.csv\".\n"
   ]
  },
  {
   "cell_type": "code",
   "execution_count": 5,
   "metadata": {},
   "outputs": [
    {
     "name": "stderr",
     "output_type": "stream",
     "text": [
      "\u001b[1mRows: \u001b[22m\u001b[34m5727\u001b[39m \u001b[1mColumns: \u001b[22m\u001b[34m9\u001b[39m\n",
      "\u001b[36m──\u001b[39m \u001b[1mColumn specification\u001b[22m \u001b[36m────────────────────────────────────────────────────────────────────────────────────────────────\u001b[39m\n",
      "\u001b[1mDelimiter:\u001b[22m \",\"\n",
      "\u001b[31mchr\u001b[39m  (1): HOURLYPrecip\n",
      "\u001b[32mdbl\u001b[39m  (7): HOURLYDewPointTempF, HOURLYRelativeHumidity, HOURLYDRYBULBTEMPF, H...\n",
      "\u001b[34mdttm\u001b[39m (1): DATE\n",
      "\n",
      "\u001b[36mℹ\u001b[39m Use `spec()` to retrieve the full column specification for this data.\n",
      "\u001b[36mℹ\u001b[39m Specify the column types or set `show_col_types = FALSE` to quiet this message.\n"
     ]
    }
   ],
   "source": [
    "noaa_weather_sample_data <- read_csv(\"noaa-weather-sample-data/jfk_weather_sample.csv\")\n"
   ]
  },
  {
   "cell_type": "markdown",
   "metadata": {},
   "source": [
    "Next, display the first few rows of the dataframe.\n"
   ]
  },
  {
   "cell_type": "code",
   "execution_count": 6,
   "metadata": {},
   "outputs": [
    {
     "data": {
      "text/html": [
       "<table class=\"dataframe\">\n",
       "<caption>A tibble: 6 × 9</caption>\n",
       "<thead>\n",
       "\t<tr><th scope=col>DATE</th><th scope=col>HOURLYDewPointTempF</th><th scope=col>HOURLYRelativeHumidity</th><th scope=col>HOURLYDRYBULBTEMPF</th><th scope=col>HOURLYWETBULBTEMPF</th><th scope=col>HOURLYPrecip</th><th scope=col>HOURLYWindSpeed</th><th scope=col>HOURLYSeaLevelPressure</th><th scope=col>HOURLYStationPressure</th></tr>\n",
       "\t<tr><th scope=col>&lt;dttm&gt;</th><th scope=col>&lt;dbl&gt;</th><th scope=col>&lt;dbl&gt;</th><th scope=col>&lt;dbl&gt;</th><th scope=col>&lt;dbl&gt;</th><th scope=col>&lt;chr&gt;</th><th scope=col>&lt;dbl&gt;</th><th scope=col>&lt;dbl&gt;</th><th scope=col>&lt;dbl&gt;</th></tr>\n",
       "</thead>\n",
       "<tbody>\n",
       "\t<tr><td>2015-07-25 13:51:00</td><td>60</td><td>46</td><td>83</td><td>68</td><td>0.00</td><td>13</td><td>30.01</td><td>29.99</td></tr>\n",
       "\t<tr><td>2016-11-18 23:51:00</td><td>34</td><td>48</td><td>53</td><td>44</td><td>0.00</td><td> 6</td><td>30.05</td><td>30.03</td></tr>\n",
       "\t<tr><td>2013-01-06 08:51:00</td><td>33</td><td>89</td><td>36</td><td>35</td><td>0.00</td><td>13</td><td>30.14</td><td>30.12</td></tr>\n",
       "\t<tr><td>2011-01-27 16:51:00</td><td>18</td><td>48</td><td>36</td><td>30</td><td>0.00</td><td>14</td><td>29.82</td><td>29.80</td></tr>\n",
       "\t<tr><td>2015-01-03 12:16:00</td><td>27</td><td>61</td><td>39</td><td>34</td><td>T   </td><td>11</td><td>   NA</td><td>30.50</td></tr>\n",
       "\t<tr><td>2013-02-15 20:51:00</td><td>35</td><td>79</td><td>41</td><td>38</td><td>0.00</td><td> 6</td><td>29.94</td><td>29.92</td></tr>\n",
       "</tbody>\n",
       "</table>\n"
      ],
      "text/latex": [
       "A tibble: 6 × 9\n",
       "\\begin{tabular}{lllllllll}\n",
       " DATE & HOURLYDewPointTempF & HOURLYRelativeHumidity & HOURLYDRYBULBTEMPF & HOURLYWETBULBTEMPF & HOURLYPrecip & HOURLYWindSpeed & HOURLYSeaLevelPressure & HOURLYStationPressure\\\\\n",
       " <dttm> & <dbl> & <dbl> & <dbl> & <dbl> & <chr> & <dbl> & <dbl> & <dbl>\\\\\n",
       "\\hline\n",
       "\t 2015-07-25 13:51:00 & 60 & 46 & 83 & 68 & 0.00 & 13 & 30.01 & 29.99\\\\\n",
       "\t 2016-11-18 23:51:00 & 34 & 48 & 53 & 44 & 0.00 &  6 & 30.05 & 30.03\\\\\n",
       "\t 2013-01-06 08:51:00 & 33 & 89 & 36 & 35 & 0.00 & 13 & 30.14 & 30.12\\\\\n",
       "\t 2011-01-27 16:51:00 & 18 & 48 & 36 & 30 & 0.00 & 14 & 29.82 & 29.80\\\\\n",
       "\t 2015-01-03 12:16:00 & 27 & 61 & 39 & 34 & T    & 11 &    NA & 30.50\\\\\n",
       "\t 2013-02-15 20:51:00 & 35 & 79 & 41 & 38 & 0.00 &  6 & 29.94 & 29.92\\\\\n",
       "\\end{tabular}\n"
      ],
      "text/markdown": [
       "\n",
       "A tibble: 6 × 9\n",
       "\n",
       "| DATE &lt;dttm&gt; | HOURLYDewPointTempF &lt;dbl&gt; | HOURLYRelativeHumidity &lt;dbl&gt; | HOURLYDRYBULBTEMPF &lt;dbl&gt; | HOURLYWETBULBTEMPF &lt;dbl&gt; | HOURLYPrecip &lt;chr&gt; | HOURLYWindSpeed &lt;dbl&gt; | HOURLYSeaLevelPressure &lt;dbl&gt; | HOURLYStationPressure &lt;dbl&gt; |\n",
       "|---|---|---|---|---|---|---|---|---|\n",
       "| 2015-07-25 13:51:00 | 60 | 46 | 83 | 68 | 0.00 | 13 | 30.01 | 29.99 |\n",
       "| 2016-11-18 23:51:00 | 34 | 48 | 53 | 44 | 0.00 |  6 | 30.05 | 30.03 |\n",
       "| 2013-01-06 08:51:00 | 33 | 89 | 36 | 35 | 0.00 | 13 | 30.14 | 30.12 |\n",
       "| 2011-01-27 16:51:00 | 18 | 48 | 36 | 30 | 0.00 | 14 | 29.82 | 29.80 |\n",
       "| 2015-01-03 12:16:00 | 27 | 61 | 39 | 34 | T    | 11 |    NA | 30.50 |\n",
       "| 2013-02-15 20:51:00 | 35 | 79 | 41 | 38 | 0.00 |  6 | 29.94 | 29.92 |\n",
       "\n"
      ],
      "text/plain": [
       "  DATE                HOURLYDewPointTempF HOURLYRelativeHumidity\n",
       "1 2015-07-25 13:51:00 60                  46                    \n",
       "2 2016-11-18 23:51:00 34                  48                    \n",
       "3 2013-01-06 08:51:00 33                  89                    \n",
       "4 2011-01-27 16:51:00 18                  48                    \n",
       "5 2015-01-03 12:16:00 27                  61                    \n",
       "6 2013-02-15 20:51:00 35                  79                    \n",
       "  HOURLYDRYBULBTEMPF HOURLYWETBULBTEMPF HOURLYPrecip HOURLYWindSpeed\n",
       "1 83                 68                 0.00         13             \n",
       "2 53                 44                 0.00          6             \n",
       "3 36                 35                 0.00         13             \n",
       "4 36                 30                 0.00         14             \n",
       "5 39                 34                 T            11             \n",
       "6 41                 38                 0.00          6             \n",
       "  HOURLYSeaLevelPressure HOURLYStationPressure\n",
       "1 30.01                  29.99                \n",
       "2 30.05                  30.03                \n",
       "3 30.14                  30.12                \n",
       "4 29.82                  29.80                \n",
       "5    NA                  30.50                \n",
       "6 29.94                  29.92                "
      ]
     },
     "metadata": {},
     "output_type": "display_data"
    }
   ],
   "source": [
    "head(noaa_weather_sample_data)"
   ]
  },
  {
   "cell_type": "markdown",
   "metadata": {},
   "source": [
    "Also, take a `glimpse` of the dataset to see the different column data types and make sure it is the correct subset dataset with about 5700 rows and 9 columns.\n"
   ]
  },
  {
   "cell_type": "code",
   "execution_count": 7,
   "metadata": {},
   "outputs": [
    {
     "name": "stdout",
     "output_type": "stream",
     "text": [
      "Rows: 5,727\n",
      "Columns: 9\n",
      "$ DATE                   \u001b[3m\u001b[90m<dttm>\u001b[39m\u001b[23m 2015-07-25 13:51:00, 2016-11-18 23:51:00, 2013…\n",
      "$ HOURLYDewPointTempF    \u001b[3m\u001b[90m<dbl>\u001b[39m\u001b[23m 60, 34, 33, 18, 27, 35, 4, 14, 51, 71, 76, 19, …\n",
      "$ HOURLYRelativeHumidity \u001b[3m\u001b[90m<dbl>\u001b[39m\u001b[23m 46, 48, 89, 48, 61, 79, 51, 65, 90, 94, 79, 37,…\n",
      "$ HOURLYDRYBULBTEMPF     \u001b[3m\u001b[90m<dbl>\u001b[39m\u001b[23m 83, 53, 36, 36, 39, 41, 19, 24, 54, 73, 83, 44,…\n",
      "$ HOURLYWETBULBTEMPF     \u001b[3m\u001b[90m<dbl>\u001b[39m\u001b[23m 68, 44, 35, 30, 34, 38, 15, 21, 52, 72, 78, 35,…\n",
      "$ HOURLYPrecip           \u001b[3m\u001b[90m<chr>\u001b[39m\u001b[23m \"0.00\", \"0.00\", \"0.00\", \"0.00\", \"T\", \"0.00\", \"0…\n",
      "$ HOURLYWindSpeed        \u001b[3m\u001b[90m<dbl>\u001b[39m\u001b[23m 13, 6, 13, 14, 11, 6, 0, 11, 11, 5, 21, 7, 17, …\n",
      "$ HOURLYSeaLevelPressure \u001b[3m\u001b[90m<dbl>\u001b[39m\u001b[23m 30.01, 30.05, 30.14, 29.82, NA, 29.94, 30.42, 3…\n",
      "$ HOURLYStationPressure  \u001b[3m\u001b[90m<dbl>\u001b[39m\u001b[23m 29.99, 30.03, 30.12, 29.80, 30.50, 29.92, 30.40…\n"
     ]
    }
   ],
   "source": [
    "glimpse(noaa_weather_sample_data)"
   ]
  },
  {
   "cell_type": "markdown",
   "metadata": {},
   "source": [
    "<a id=\"cell3\"></a>\n",
    "## 3. Select Subset of Columns\n",
    "\n",
    "The end goal of this project will be to predict `HOURLYprecip` (precipitation) using a few other variables. Before you can do this, you first need to preprocess the dataset. Section 3 to section 6 focuses on preprocessing.\n",
    "\n",
    "The first step in preprocessing is to select a subset of data columns and inspect the column types.\n",
    "\n",
    "The key columns that we will explore in this project are:\n",
    "- HOURLYRelativeHumidity\n",
    "- HOURLYDRYBULBTEMPF\n",
    "- HOURLYPrecip\n",
    "- HOURLYWindSpeed\n",
    "- HOURLYStationPressure\n",
    "\n",
    "Data Glossary:\n",
    "- 'HOURLYRelativeHumidity' is the relative humidity given to the nearest whole percentage.\n",
    "- 'HOURLYDRYBULBTEMPF' is the dry-bulb temperature and is commonly used as the standard air temperature reported. It is given here in whole degrees Fahrenheit.\n",
    "- 'HOURLYPrecip' is the amount of precipitation in inches to hundredths over the past hour. For certain automated stations, precipitation will be reported at sub-hourly intervals (e.g. every 15 or 20 minutes) as an accumulated amount of all precipitation within the preceding hour. A “T” indicates a trace amount of precipitation.\n",
    "- 'HOURLYWindSpeed' is the speed of the wind at the time of observation given in miles per hour (mph).\n",
    "- 'HOURLYStationPressure' is the atmospheric pressure observed at the station during the time of observation. Given in inches of Mercury (in Hg).\n",
    "\n",
    "`Select` those five columns and store the modified dataframe as a new variable.\n"
   ]
  },
  {
   "cell_type": "code",
   "execution_count": 8,
   "metadata": {},
   "outputs": [],
   "source": [
    "weather_subset <-  noaa_weather_sample_data %>%\n",
    "  select(HOURLYRelativeHumidity , HOURLYDRYBULBTEMPF , HOURLYPrecip ,  HOURLYWindSpeed ,HOURLYStationPressure)"
   ]
  },
  {
   "cell_type": "markdown",
   "metadata": {},
   "source": [
    "Show the first 10 rows of this new dataframe.\n"
   ]
  },
  {
   "cell_type": "code",
   "execution_count": 9,
   "metadata": {},
   "outputs": [
    {
     "data": {
      "text/html": [
       "<table class=\"dataframe\">\n",
       "<caption>A tibble: 6 × 5</caption>\n",
       "<thead>\n",
       "\t<tr><th scope=col>HOURLYRelativeHumidity</th><th scope=col>HOURLYDRYBULBTEMPF</th><th scope=col>HOURLYPrecip</th><th scope=col>HOURLYWindSpeed</th><th scope=col>HOURLYStationPressure</th></tr>\n",
       "\t<tr><th scope=col>&lt;dbl&gt;</th><th scope=col>&lt;dbl&gt;</th><th scope=col>&lt;chr&gt;</th><th scope=col>&lt;dbl&gt;</th><th scope=col>&lt;dbl&gt;</th></tr>\n",
       "</thead>\n",
       "<tbody>\n",
       "\t<tr><td>46</td><td>83</td><td>0.00</td><td>13</td><td>29.99</td></tr>\n",
       "\t<tr><td>48</td><td>53</td><td>0.00</td><td> 6</td><td>30.03</td></tr>\n",
       "\t<tr><td>89</td><td>36</td><td>0.00</td><td>13</td><td>30.12</td></tr>\n",
       "\t<tr><td>48</td><td>36</td><td>0.00</td><td>14</td><td>29.80</td></tr>\n",
       "\t<tr><td>61</td><td>39</td><td>T   </td><td>11</td><td>30.50</td></tr>\n",
       "\t<tr><td>79</td><td>41</td><td>0.00</td><td> 6</td><td>29.92</td></tr>\n",
       "</tbody>\n",
       "</table>\n"
      ],
      "text/latex": [
       "A tibble: 6 × 5\n",
       "\\begin{tabular}{lllll}\n",
       " HOURLYRelativeHumidity & HOURLYDRYBULBTEMPF & HOURLYPrecip & HOURLYWindSpeed & HOURLYStationPressure\\\\\n",
       " <dbl> & <dbl> & <chr> & <dbl> & <dbl>\\\\\n",
       "\\hline\n",
       "\t 46 & 83 & 0.00 & 13 & 29.99\\\\\n",
       "\t 48 & 53 & 0.00 &  6 & 30.03\\\\\n",
       "\t 89 & 36 & 0.00 & 13 & 30.12\\\\\n",
       "\t 48 & 36 & 0.00 & 14 & 29.80\\\\\n",
       "\t 61 & 39 & T    & 11 & 30.50\\\\\n",
       "\t 79 & 41 & 0.00 &  6 & 29.92\\\\\n",
       "\\end{tabular}\n"
      ],
      "text/markdown": [
       "\n",
       "A tibble: 6 × 5\n",
       "\n",
       "| HOURLYRelativeHumidity &lt;dbl&gt; | HOURLYDRYBULBTEMPF &lt;dbl&gt; | HOURLYPrecip &lt;chr&gt; | HOURLYWindSpeed &lt;dbl&gt; | HOURLYStationPressure &lt;dbl&gt; |\n",
       "|---|---|---|---|---|\n",
       "| 46 | 83 | 0.00 | 13 | 29.99 |\n",
       "| 48 | 53 | 0.00 |  6 | 30.03 |\n",
       "| 89 | 36 | 0.00 | 13 | 30.12 |\n",
       "| 48 | 36 | 0.00 | 14 | 29.80 |\n",
       "| 61 | 39 | T    | 11 | 30.50 |\n",
       "| 79 | 41 | 0.00 |  6 | 29.92 |\n",
       "\n"
      ],
      "text/plain": [
       "  HOURLYRelativeHumidity HOURLYDRYBULBTEMPF HOURLYPrecip HOURLYWindSpeed\n",
       "1 46                     83                 0.00         13             \n",
       "2 48                     53                 0.00          6             \n",
       "3 89                     36                 0.00         13             \n",
       "4 48                     36                 0.00         14             \n",
       "5 61                     39                 T            11             \n",
       "6 79                     41                 0.00          6             \n",
       "  HOURLYStationPressure\n",
       "1 29.99                \n",
       "2 30.03                \n",
       "3 30.12                \n",
       "4 29.80                \n",
       "5 30.50                \n",
       "6 29.92                "
      ]
     },
     "metadata": {},
     "output_type": "display_data"
    }
   ],
   "source": [
    "head(weather_subset)"
   ]
  },
  {
   "cell_type": "markdown",
   "metadata": {},
   "source": [
    "<a id=\"cell4\"></a>\n",
    "## 4. Clean Up Columns\n",
    "\n",
    "From the dataframe preview above, we can see that the column `HOURLYPrecip` - which is the hourly measure of precipitation levels - contains both `NA` and `T` values. `T` specifies *trace amounts of precipitation* (meaning essentially no precipitation), while `NA` means *not available*, and is used to denote missing values. Additionally, some values also have \"s\" at the end of them, indicating that the precipitation was snow. \n",
    "\n",
    "Inspect the unique values present in the column `HOURLYPrecip` (with `unique(dataframe$column)`) to see these values.\n"
   ]
  },
  {
   "cell_type": "code",
   "execution_count": 10,
   "metadata": {},
   "outputs": [
    {
     "data": {
      "text/html": [
       "<style>\n",
       ".list-inline {list-style: none; margin:0; padding: 0}\n",
       ".list-inline>li {display: inline-block}\n",
       ".list-inline>li:not(:last-child)::after {content: \"\\00b7\"; padding: 0 .5ex}\n",
       "</style>\n",
       "<ol class=list-inline><li>'0.00'</li><li>'T'</li><li>'0.06'</li><li>NA</li><li>'0.03'</li><li>'0.02'</li><li>'0.08'</li><li>'0.01'</li><li>'0.07'</li><li>'0.16'</li><li>'0.09'</li><li>'0.22'</li><li>'0.02s'</li><li>'0.24'</li><li>'0.18'</li><li>'0.05'</li><li>'0.04'</li><li>'0.09s'</li><li>'0.11'</li><li>'0.14'</li><li>'0.25'</li><li>'0.10'</li><li>'0.01s'</li><li>'0.58'</li><li>'0.12'</li><li>'0.13'</li><li>'0.46'</li><li>'1.07'</li><li>'1.19'</li><li>'0.34'</li><li>'0.20'</li><li>'0.36s'</li><li>'0.42'</li><li>'0.17'</li><li>'0.27'</li><li>'0.35'</li><li>'0.31'</li><li>'0.33'</li><li>'0.23'</li><li>'0.26'</li><li>'0.28'</li><li>'0.75'</li><li>'0.19'</li><li>'0.36'</li><li>'0.03s'</li><li>'0.07s'</li><li>'0.54'</li><li>'0.59'</li><li>'0.21'</li></ol>\n"
      ],
      "text/latex": [
       "\\begin{enumerate*}\n",
       "\\item '0.00'\n",
       "\\item 'T'\n",
       "\\item '0.06'\n",
       "\\item NA\n",
       "\\item '0.03'\n",
       "\\item '0.02'\n",
       "\\item '0.08'\n",
       "\\item '0.01'\n",
       "\\item '0.07'\n",
       "\\item '0.16'\n",
       "\\item '0.09'\n",
       "\\item '0.22'\n",
       "\\item '0.02s'\n",
       "\\item '0.24'\n",
       "\\item '0.18'\n",
       "\\item '0.05'\n",
       "\\item '0.04'\n",
       "\\item '0.09s'\n",
       "\\item '0.11'\n",
       "\\item '0.14'\n",
       "\\item '0.25'\n",
       "\\item '0.10'\n",
       "\\item '0.01s'\n",
       "\\item '0.58'\n",
       "\\item '0.12'\n",
       "\\item '0.13'\n",
       "\\item '0.46'\n",
       "\\item '1.07'\n",
       "\\item '1.19'\n",
       "\\item '0.34'\n",
       "\\item '0.20'\n",
       "\\item '0.36s'\n",
       "\\item '0.42'\n",
       "\\item '0.17'\n",
       "\\item '0.27'\n",
       "\\item '0.35'\n",
       "\\item '0.31'\n",
       "\\item '0.33'\n",
       "\\item '0.23'\n",
       "\\item '0.26'\n",
       "\\item '0.28'\n",
       "\\item '0.75'\n",
       "\\item '0.19'\n",
       "\\item '0.36'\n",
       "\\item '0.03s'\n",
       "\\item '0.07s'\n",
       "\\item '0.54'\n",
       "\\item '0.59'\n",
       "\\item '0.21'\n",
       "\\end{enumerate*}\n"
      ],
      "text/markdown": [
       "1. '0.00'\n",
       "2. 'T'\n",
       "3. '0.06'\n",
       "4. NA\n",
       "5. '0.03'\n",
       "6. '0.02'\n",
       "7. '0.08'\n",
       "8. '0.01'\n",
       "9. '0.07'\n",
       "10. '0.16'\n",
       "11. '0.09'\n",
       "12. '0.22'\n",
       "13. '0.02s'\n",
       "14. '0.24'\n",
       "15. '0.18'\n",
       "16. '0.05'\n",
       "17. '0.04'\n",
       "18. '0.09s'\n",
       "19. '0.11'\n",
       "20. '0.14'\n",
       "21. '0.25'\n",
       "22. '0.10'\n",
       "23. '0.01s'\n",
       "24. '0.58'\n",
       "25. '0.12'\n",
       "26. '0.13'\n",
       "27. '0.46'\n",
       "28. '1.07'\n",
       "29. '1.19'\n",
       "30. '0.34'\n",
       "31. '0.20'\n",
       "32. '0.36s'\n",
       "33. '0.42'\n",
       "34. '0.17'\n",
       "35. '0.27'\n",
       "36. '0.35'\n",
       "37. '0.31'\n",
       "38. '0.33'\n",
       "39. '0.23'\n",
       "40. '0.26'\n",
       "41. '0.28'\n",
       "42. '0.75'\n",
       "43. '0.19'\n",
       "44. '0.36'\n",
       "45. '0.03s'\n",
       "46. '0.07s'\n",
       "47. '0.54'\n",
       "48. '0.59'\n",
       "49. '0.21'\n",
       "\n",
       "\n"
      ],
      "text/plain": [
       " [1] \"0.00\"  \"T\"     \"0.06\"  NA      \"0.03\"  \"0.02\"  \"0.08\"  \"0.01\"  \"0.07\" \n",
       "[10] \"0.16\"  \"0.09\"  \"0.22\"  \"0.02s\" \"0.24\"  \"0.18\"  \"0.05\"  \"0.04\"  \"0.09s\"\n",
       "[19] \"0.11\"  \"0.14\"  \"0.25\"  \"0.10\"  \"0.01s\" \"0.58\"  \"0.12\"  \"0.13\"  \"0.46\" \n",
       "[28] \"1.07\"  \"1.19\"  \"0.34\"  \"0.20\"  \"0.36s\" \"0.42\"  \"0.17\"  \"0.27\"  \"0.35\" \n",
       "[37] \"0.31\"  \"0.33\"  \"0.23\"  \"0.26\"  \"0.28\"  \"0.75\"  \"0.19\"  \"0.36\"  \"0.03s\"\n",
       "[46] \"0.07s\" \"0.54\"  \"0.59\"  \"0.21\" "
      ]
     },
     "metadata": {},
     "output_type": "display_data"
    }
   ],
   "source": [
    "unique(weather_subset$HOURLYPrecip)"
   ]
  },
  {
   "cell_type": "markdown",
   "metadata": {},
   "source": [
    "Having characters in values (like the \"T\" and \"s\" that you see in the unique values) will cause problems when you create a model because values for precipitation should be numerical. So you need to fix these values that have characters. \n",
    "\n",
    "Now, for the column `HOURLYPrecip`:\n",
    "1. Replace all the `T` values with \"0.0\" and \n",
    "2. Remove \"s\" from values like \"0.02s\". In R, you can use the method `str_remove(column, pattern = \"s$\")` to remove the character \"s\" from the end of values. The \"$\" tells R to match to the end of values. The `pattern` is a regex pattern. Look at [here](https://www.rdocumentation.org/packages/stringi/versions/1.5.3/topics/about_search_regex) for more information about regex and matching to strings in R.\n",
    "\n",
    "Remember that you can use `tidyverse`'s  `mutate()` to update columns.\n",
    "\n",
    "You can check your work by checking if unique values of `HOURLYPrecip` still contain any `T` or `s`. Store the modified dataframe as a new variable.\n"
   ]
  },
  {
   "cell_type": "code",
   "execution_count": 11,
   "metadata": {},
   "outputs": [
    {
     "data": {
      "text/html": [
       "<style>\n",
       ".list-inline {list-style: none; margin:0; padding: 0}\n",
       ".list-inline>li {display: inline-block}\n",
       ".list-inline>li:not(:last-child)::after {content: \"\\00b7\"; padding: 0 .5ex}\n",
       "</style>\n",
       "<ol class=list-inline><li>'0.00'</li><li>'0.0'</li><li>'0.06'</li><li>'0.03'</li><li>'0.02'</li><li>'0.08'</li><li>'0.01'</li><li>'0.07'</li><li>'0.16'</li><li>'0.09'</li><li>'0.22'</li><li>'0.24'</li><li>'0.18'</li><li>'0.05'</li><li>'0.04'</li><li>'0.11'</li><li>'0.14'</li><li>'0.25'</li><li>'0.10'</li><li>'0.58'</li><li>'0.12'</li><li>'0.13'</li><li>'0.46'</li><li>'1.07'</li><li>'1.19'</li><li>'0.34'</li><li>'0.20'</li><li>'0.36'</li><li>'0.42'</li><li>'0.17'</li><li>'0.27'</li><li>'0.35'</li><li>'0.31'</li><li>'0.33'</li><li>'0.23'</li><li>'0.26'</li><li>'0.28'</li><li>'0.75'</li><li>'0.19'</li><li>'0.54'</li><li>'0.59'</li><li>'0.21'</li></ol>\n"
      ],
      "text/latex": [
       "\\begin{enumerate*}\n",
       "\\item '0.00'\n",
       "\\item '0.0'\n",
       "\\item '0.06'\n",
       "\\item '0.03'\n",
       "\\item '0.02'\n",
       "\\item '0.08'\n",
       "\\item '0.01'\n",
       "\\item '0.07'\n",
       "\\item '0.16'\n",
       "\\item '0.09'\n",
       "\\item '0.22'\n",
       "\\item '0.24'\n",
       "\\item '0.18'\n",
       "\\item '0.05'\n",
       "\\item '0.04'\n",
       "\\item '0.11'\n",
       "\\item '0.14'\n",
       "\\item '0.25'\n",
       "\\item '0.10'\n",
       "\\item '0.58'\n",
       "\\item '0.12'\n",
       "\\item '0.13'\n",
       "\\item '0.46'\n",
       "\\item '1.07'\n",
       "\\item '1.19'\n",
       "\\item '0.34'\n",
       "\\item '0.20'\n",
       "\\item '0.36'\n",
       "\\item '0.42'\n",
       "\\item '0.17'\n",
       "\\item '0.27'\n",
       "\\item '0.35'\n",
       "\\item '0.31'\n",
       "\\item '0.33'\n",
       "\\item '0.23'\n",
       "\\item '0.26'\n",
       "\\item '0.28'\n",
       "\\item '0.75'\n",
       "\\item '0.19'\n",
       "\\item '0.54'\n",
       "\\item '0.59'\n",
       "\\item '0.21'\n",
       "\\end{enumerate*}\n"
      ],
      "text/markdown": [
       "1. '0.00'\n",
       "2. '0.0'\n",
       "3. '0.06'\n",
       "4. '0.03'\n",
       "5. '0.02'\n",
       "6. '0.08'\n",
       "7. '0.01'\n",
       "8. '0.07'\n",
       "9. '0.16'\n",
       "10. '0.09'\n",
       "11. '0.22'\n",
       "12. '0.24'\n",
       "13. '0.18'\n",
       "14. '0.05'\n",
       "15. '0.04'\n",
       "16. '0.11'\n",
       "17. '0.14'\n",
       "18. '0.25'\n",
       "19. '0.10'\n",
       "20. '0.58'\n",
       "21. '0.12'\n",
       "22. '0.13'\n",
       "23. '0.46'\n",
       "24. '1.07'\n",
       "25. '1.19'\n",
       "26. '0.34'\n",
       "27. '0.20'\n",
       "28. '0.36'\n",
       "29. '0.42'\n",
       "30. '0.17'\n",
       "31. '0.27'\n",
       "32. '0.35'\n",
       "33. '0.31'\n",
       "34. '0.33'\n",
       "35. '0.23'\n",
       "36. '0.26'\n",
       "37. '0.28'\n",
       "38. '0.75'\n",
       "39. '0.19'\n",
       "40. '0.54'\n",
       "41. '0.59'\n",
       "42. '0.21'\n",
       "\n",
       "\n"
      ],
      "text/plain": [
       " [1] \"0.00\" \"0.0\"  \"0.06\" \"0.03\" \"0.02\" \"0.08\" \"0.01\" \"0.07\" \"0.16\" \"0.09\"\n",
       "[11] \"0.22\" \"0.24\" \"0.18\" \"0.05\" \"0.04\" \"0.11\" \"0.14\" \"0.25\" \"0.10\" \"0.58\"\n",
       "[21] \"0.12\" \"0.13\" \"0.46\" \"1.07\" \"1.19\" \"0.34\" \"0.20\" \"0.36\" \"0.42\" \"0.17\"\n",
       "[31] \"0.27\" \"0.35\" \"0.31\" \"0.33\" \"0.23\" \"0.26\" \"0.28\" \"0.75\" \"0.19\" \"0.54\"\n",
       "[41] \"0.59\" \"0.21\""
      ]
     },
     "metadata": {},
     "output_type": "display_data"
    }
   ],
   "source": [
    "clean_weather_subset <- noaa_weather_sample_data %>%\n",
    "  mutate(HOURLYPrecip = ifelse(is.na(HOURLYPrecip) | HOURLYPrecip == \"T\", \"0.0\", HOURLYPrecip)) %>%\n",
    "  mutate(HOURLYPrecip = str_remove(HOURLYPrecip, pattern = \"s$\")) %>%\n",
    "select(HOURLYRelativeHumidity, HOURLYDRYBULBTEMPF, HOURLYPrecip, HOURLYWindSpeed, HOURLYStationPressure)\n",
    "\n",
    "unique(clean_weather_subset$HOURLYPrecip)"
   ]
  },
  {
   "cell_type": "markdown",
   "metadata": {},
   "source": [
    "<a id=\"cell5\"></a>\n",
    "## 5. Convert Columns to Numerical Types\n",
    "Now that you have removed the characters in the `HOURLYPrecip` column, you can safely covert the column to a numeric type.\n",
    "\n",
    "First, check the types of the columns. You will notice that all are `dbl` (double or numeric) except for `HOURLYPrecip`, which is `chr` (character or string). Use the `glimpse` function from Tidyverse.\n"
   ]
  },
  {
   "cell_type": "code",
   "execution_count": 12,
   "metadata": {},
   "outputs": [
    {
     "name": "stdout",
     "output_type": "stream",
     "text": [
      "Rows: 5,727\n",
      "Columns: 5\n",
      "$ HOURLYRelativeHumidity \u001b[3m\u001b[90m<dbl>\u001b[39m\u001b[23m 46, 48, 89, 48, 61, 79, 51, 65, 90, 94, 79, 37,…\n",
      "$ HOURLYDRYBULBTEMPF     \u001b[3m\u001b[90m<dbl>\u001b[39m\u001b[23m 83, 53, 36, 36, 39, 41, 19, 24, 54, 73, 83, 44,…\n",
      "$ HOURLYPrecip           \u001b[3m\u001b[90m<chr>\u001b[39m\u001b[23m \"0.00\", \"0.00\", \"0.00\", \"0.00\", \"0.0\", \"0.00\", …\n",
      "$ HOURLYWindSpeed        \u001b[3m\u001b[90m<dbl>\u001b[39m\u001b[23m 13, 6, 13, 14, 11, 6, 0, 11, 11, 5, 21, 7, 17, …\n",
      "$ HOURLYStationPressure  \u001b[3m\u001b[90m<dbl>\u001b[39m\u001b[23m 29.99, 30.03, 30.12, 29.80, 30.50, 29.92, 30.40…\n"
     ]
    }
   ],
   "source": [
    "glimpse(clean_weather_subset)"
   ]
  },
  {
   "cell_type": "markdown",
   "metadata": {},
   "source": [
    "Convert `HOURLYPrecip` to the `numeric` type and store the cleaned dataframe as a new variable.\n"
   ]
  },
  {
   "cell_type": "code",
   "execution_count": 13,
   "metadata": {},
   "outputs": [],
   "source": [
    "clean_numeric_weather_subset <- noaa_weather_sample_data %>%\n",
    "  mutate(HOURLYPrecip = ifelse(is.na(HOURLYPrecip) | HOURLYPrecip == \"T\", \"0.0\", str_remove(HOURLYPrecip, pattern = \"s$\"))) %>%\n",
    "  mutate(HOURLYPrecip = as.numeric(HOURLYPrecip)) %>%\n",
    "  select(HOURLYRelativeHumidity, HOURLYDRYBULBTEMPF, HOURLYPrecip, HOURLYWindSpeed, HOURLYStationPressure)"
   ]
  },
  {
   "cell_type": "markdown",
   "metadata": {},
   "source": [
    "We can now see that all fields have numerical data type.\n"
   ]
  },
  {
   "cell_type": "code",
   "execution_count": 14,
   "metadata": {},
   "outputs": [
    {
     "name": "stdout",
     "output_type": "stream",
     "text": [
      "Rows: 5,727\n",
      "Columns: 5\n",
      "$ HOURLYRelativeHumidity \u001b[3m\u001b[90m<dbl>\u001b[39m\u001b[23m 46, 48, 89, 48, 61, 79, 51, 65, 90, 94, 79, 37,…\n",
      "$ HOURLYDRYBULBTEMPF     \u001b[3m\u001b[90m<dbl>\u001b[39m\u001b[23m 83, 53, 36, 36, 39, 41, 19, 24, 54, 73, 83, 44,…\n",
      "$ HOURLYPrecip           \u001b[3m\u001b[90m<dbl>\u001b[39m\u001b[23m 0.00, 0.00, 0.00, 0.00, 0.00, 0.00, 0.00, 0.00,…\n",
      "$ HOURLYWindSpeed        \u001b[3m\u001b[90m<dbl>\u001b[39m\u001b[23m 13, 6, 13, 14, 11, 6, 0, 11, 11, 5, 21, 7, 17, …\n",
      "$ HOURLYStationPressure  \u001b[3m\u001b[90m<dbl>\u001b[39m\u001b[23m 29.99, 30.03, 30.12, 29.80, 30.50, 29.92, 30.40…\n"
     ]
    }
   ],
   "source": [
    "glimpse(clean_numeric_weather_subset)"
   ]
  },
  {
   "cell_type": "markdown",
   "metadata": {},
   "source": [
    "<a id=\"cell6\"></a>\n",
    "## 6. Rename Columns\n",
    "Let's rename the following columns as:\n",
    "- 'HOURLYRelativeHumidity' to 'relative_humidity'\n",
    "- 'HOURLYDRYBULBTEMPF' to 'dry_bulb_temp_f'\n",
    "- 'HOURLYPrecip' to 'precip'\n",
    "- 'HOURLYWindSpeed' to 'wind_speed'\n",
    "- 'HOURLYStationPressure' to 'station_pressure'\n",
    "\n",
    "You can use `dplyr::rename()`. Then, store the final dataframe as a new variable.\n"
   ]
  },
  {
   "cell_type": "code",
   "execution_count": 15,
   "metadata": {},
   "outputs": [
    {
     "data": {
      "text/html": [
       "0"
      ],
      "text/latex": [
       "0"
      ],
      "text/markdown": [
       "0"
      ],
      "text/plain": [
       "[1] 0"
      ]
     },
     "metadata": {},
     "output_type": "display_data"
    }
   ],
   "source": [
    "prepr_weather_subset <- noaa_weather_sample_data %>%\n",
    "  mutate(precip = ifelse(is.na(HOURLYPrecip) | HOURLYPrecip == \"T\", \"0.0\", str_remove(HOURLYPrecip, pattern = \"s$\")),\n",
    "         precip = as.numeric(precip)) %>%\n",
    "  mutate(relative_humidity = ifelse(is.na(HOURLYRelativeHumidity), \"0.0\", HOURLYRelativeHumidity),\n",
    "         relative_humidity = as.numeric(relative_humidity)) %>%\n",
    "  mutate(wind_speed = ifelse(is.na(HOURLYWindSpeed), \"0.0\", HOURLYWindSpeed),\n",
    "         wind_speed = as.numeric(wind_speed)) %>%\n",
    "  mutate(station_pressure = ifelse(is.na(HOURLYStationPressure), \"0.0\", HOURLYStationPressure),\n",
    "         station_pressure = as.numeric(station_pressure)) %>%\n",
    "  mutate(dry_bulb_temp_f = ifelse(is.na(HOURLYDRYBULBTEMPF), \"0.0\", HOURLYDRYBULBTEMPF),\n",
    "         dry_bulb_temp_f = as.numeric(dry_bulb_temp_f)) %>%\n",
    "  select(relative_humidity, dry_bulb_temp_f, precip, wind_speed, station_pressure)\n",
    "\n",
    "sum(is.na(prepr_weather_subset))\n"
   ]
  },
  {
   "cell_type": "markdown",
   "metadata": {},
   "source": [
    "<a id=\"cell7\"></a>\n",
    "## 7. Exploratory Data Analysis\n",
    "Now that you have finished preprocessing the dataset, you can can start exploring the columns more.\n",
    "\n",
    "First, split the data into a training and testing set. Splitting a dataset is done randomly, so to have reproducible results set the seed = 1234. Also, use 80% of the data for training.\n"
   ]
  },
  {
   "cell_type": "code",
   "execution_count": 16,
   "metadata": {},
   "outputs": [],
   "source": [
    "set.seed(1234)\n",
    "weather_subset_split <- initial_split(prepr_weather_subset , prop = 4/5) \n",
    "train_data <- training(weather_subset_split)\n",
    "test_data <- testing(weather_subset_split)"
   ]
  },
  {
   "cell_type": "markdown",
   "metadata": {},
   "source": [
    "Next, looking at just the **training set**, plot histograms or box plots of the variables (`relative_humidity`, `dry_bulb_temp_f`, `precip`, `wind_speed`,  `station_pressure`) for an intial look of their distributions using `tidyverse`'s `ggplot`. Leave the testing set as is because it is good practice to not see the testing set until evaluating the final model.\n"
   ]
  },
  {
   "cell_type": "code",
   "execution_count": 17,
   "metadata": {},
   "outputs": [
    {
     "data": {
      "image/png": "[encoded data removed]",
      "text/plain": [
       "plot without title"
      ]
     },
     "metadata": {
      "image/png": {
       "height": 420,
       "width": 420
      }
     },
     "output_type": "display_data"
    },
    {
     "data": {
      "image/png": "[encoded data removed]",
      "text/plain": [
       "plot without title"
      ]
     },
     "metadata": {
      "image/png": {
       "height": 420,
       "width": 420
      }
     },
     "output_type": "display_data"
    },
    {
     "data": {
      "image/png": "[encoded data removed]",
      "text/plain": [
       "plot without title"
      ]
     },
     "metadata": {
      "image/png": {
       "height": 420,
       "width": 420
      }
     },
     "output_type": "display_data"
    },
    {
     "data": {
      "image/png": "[encoded data removed]",
      "text/plain": [
       "plot without title"
      ]
     },
     "metadata": {
      "image/png": {
       "height": 420,
       "width": 420
      }
     },
     "output_type": "display_data"
    },
    {
     "data": {
      "image/png": "[encoded data removed]",
      "text/plain": [
       "plot without title"
      ]
     },
     "metadata": {
      "image/png": {
       "height": 420,
       "width": 420
      }
     },
     "output_type": "display_data"
    }
   ],
   "source": [
    "# 1-Histogram of Relative Humidity\n",
    "\n",
    "ggplot(train_data, aes(y = relative_humidity)) +\n",
    "  geom_boxplot(fill = \"blue\", color = \"black\") +\n",
    "  labs(title = \"Boxplot of Percentage of Humidity\", y = \"Percentage of Humidity (%)\")\n",
    "\n",
    "# 2-Histogram of  dry bulb temperature (Fahrenheit)\n",
    "ggplot(train_data, aes(x = dry_bulb_temp_f)) +\n",
    "  geom_histogram(fill = \"red\", color = \"black\", bins = 30) +\n",
    "  labs(title = \"Histogram of Hourly Dry Bulb Temperature (Fahrenheit)\", \n",
    "       x = \"Temperature (Fahrenheit)\", y = \"Number of Hours\")\n",
    "\n",
    "# 3- a box plot for wind speed\n",
    "ggplot(train_data, aes(y = wind_speed)) +\n",
    "  geom_boxplot(fill = \"orange\", color = \"black\") +\n",
    "  labs(title = \"Boxplot of Wind Speed\", y = \"Wind Speed (mph)\")\n",
    "\n",
    "# 4- a histogram for precipitation\n",
    "ggplot(train_data, aes(x = precip)) +\n",
    "  geom_histogram(fill = \"green\", color = \"black\", bins = 30) +\n",
    "  labs(title = \"Histogram of Precipitation\", x = \"Precipitation (inches)\", y = \"Frequency\")\n",
    "\n",
    "# 5-  a histogram for station pressure\n",
    "ggplot(train_data, aes(x = station_pressure )) +\n",
    "  geom_histogram(fill = \"purple\", color = \"black\", bins = 30) +\n",
    "  labs(title = \"Histogram of Distribution of Station Pressure\",\n",
    "       x = \"Pressure (inches of Mercury)\",\n",
    "       y = \"Frequency\")"
   ]
  },
  {
   "cell_type": "markdown",
   "metadata": {},
   "source": [
    "<a id=\"cell8\"></a>\n",
    "## 8. Linear Regression \n",
    "After exploring the dataset more, you are now ready to start creating models to predict the precipitation (`precip`).\n",
    "\n",
    "Create simple linear regression models where `precip` is the response variable and each of `relative_humidity`, `dry_bulb_temp_f`,`wind_speed` or `station_pressure` will be a predictor variable, e.g. `precip ~ relative_humidity`, `precip ~ dry_bulb_temp_f`, etc. for a total of four simple models. \n",
    "Additionally, visualize each simple model with a scatter plot.\n"
   ]
  },
  {
   "cell_type": "code",
   "execution_count": 18,
   "metadata": {},
   "outputs": [
    {
     "data": {
      "image/png": "[encoded data removed]",
      "text/plain": [
       "plot without title"
      ]
     },
     "metadata": {
      "image/png": {
       "height": 420,
       "width": 420
      }
     },
     "output_type": "display_data"
    }
   ],
   "source": [
    "lm_spec <- linear_reg() %>%   set_engine(engine = \"lm\") \n",
    "\n",
    "# Model 1: precip ~ relative_humidity \n",
    "\n",
    "model1 <- lm_spec %>% \n",
    "  fit(precip ~ relative_humidity, data = train_data) \n",
    "\n",
    "# model1_train_results + Square the residuals\n",
    "\n",
    "model1_train_results <- train_data %>%\n",
    "    mutate(pred = predict(model1, new_data = train_data)) %>%  \n",
    "   mutate(truth = precip) %>%\n",
    "  mutate(residual = truth - pred$.pred)%>%\n",
    "  mutate(residual_squared = residual^2)\n",
    "\n",
    "# mean squared residuals\n",
    "model1_mse <- mean(model1_train_results$residual_squared)\n",
    "\n",
    "#  RMSE\n",
    "model1_rmse <- sqrt(model1_mse)\n",
    "\n",
    "# Visualise it\n",
    "\n",
    "ggplot(model1_train_results, aes(x = truth, y = pred$.pred )) +\n",
    "  geom_point(color = \"blue\") +  \n",
    "  labs(x = \"True\", y = \"Predicted\", \n",
    "       title = \"Scatter Plot of Predicted vs. True Values\\n(Precipitation vs. Relative Humidity)\")"
   ]
  },
  {
   "cell_type": "code",
   "execution_count": 19,
   "metadata": {},
   "outputs": [
    {
     "data": {
      "image/png": "[encoded data removed]",
      "text/plain": [
       "plot without title"
      ]
     },
     "metadata": {
      "image/png": {
       "height": 420,
       "width": 420
      }
     },
     "output_type": "display_data"
    }
   ],
   "source": [
    "# Model 2: precip ~ dry_bulb_temp_f\n",
    "model2 <- lm_spec %>% \n",
    "  fit(precip ~ dry_bulb_temp_f, data = train_data)\n",
    "\n",
    "# model2_training_results with Square the residuals\n",
    "\n",
    "model2_train_results <- train_data %>%\n",
    "mutate(pred = predict(model2, new_data = train_data)) %>%  \n",
    "mutate(truth = precip) %>% \n",
    "mutate(residual = truth - pred$.pred) %>% \n",
    "mutate(residual_squared = residual^2)\n",
    "\n",
    "# mean squared residuals\n",
    "model2_mse <- mean(model2_train_results$residual_squared)\n",
    "\n",
    "# RMSE\n",
    "model2_rmse <- sqrt(model2_mse)\n",
    "\n",
    "# Visualise it\n",
    "\n",
    "ggplot(model2_train_results, aes(x = truth , y = pred$.pred)) +\n",
    "  geom_point(color = \"red\") +  \n",
    "  labs(x = \"True\", y =  \"Predicted\", \n",
    "       title = \"Scatter Plot of Predicted vs. True Values\\n(Precipitation vs. dry_bulb_temp_f)\")"
   ]
  },
  {
   "cell_type": "code",
   "execution_count": 20,
   "metadata": {},
   "outputs": [
    {
     "data": {
      "image/png": "[encoded data removed]",
      "text/plain": [
       "plot without title"
      ]
     },
     "metadata": {
      "image/png": {
       "height": 420,
       "width": 420
      }
     },
     "output_type": "display_data"
    }
   ],
   "source": [
    "# Model 3: precip ~ wind_speed\n",
    "model3 <- lm_spec %>% \n",
    "  fit(precip ~ wind_speed, data = train_data)\n",
    "\n",
    "model3_train_results <- train_data %>%\n",
    "  mutate(pred = predict(model3, new_data = train_data)) %>%  mutate(truth = precip) %>% \n",
    "mutate(residual = truth - pred$.pred) %>% \n",
    "mutate(residual_squared = residual^2)\n",
    "\n",
    "\n",
    "#  mean squared residuals\n",
    "model3_mse <- mean(model3_train_results$residual_squared)\n",
    "\n",
    "#  RMSE\n",
    "model3_rmse <- sqrt(model3_mse)\n",
    "\n",
    "# Visualise it\n",
    "\n",
    "ggplot(model3_train_results, aes(x = truth , y = pred$.pred)) +\n",
    "  geom_point(color = \"red\") +  \n",
    "  labs(x = \"True\", y =  \"Predicted\", \n",
    "       title = \"Scatter Plot of Predicted vs. True Values\\n(Precipitation vs. Wind Speed)\")"
   ]
  },
  {
   "cell_type": "code",
   "execution_count": 21,
   "metadata": {},
   "outputs": [
    {
     "data": {
      "image/png": "[encoded data removed]",
      "text/plain": [
       "plot without title"
      ]
     },
     "metadata": {
      "image/png": {
       "height": 420,
       "width": 420
      }
     },
     "output_type": "display_data"
    }
   ],
   "source": [
    "# Model 4: precip ~ station_pressure\n",
    "model4 <- lm_spec %>% \n",
    "  fit(precip ~ station_pressure, data = train_data)\n",
    "\n",
    "# model4_train_results + Square the residuals\n",
    "model4_train_results <- train_data %>%\n",
    "  mutate(pred = predict(model4, new_data = train_data)) %>%  mutate(truth = precip) %>%\n",
    "  mutate(residual = truth - pred$.pred) %>%\n",
    "  mutate(residual_squared = residual^2)\n",
    "\n",
    "#  mean squared residuals\n",
    "model4_mse <- mean(model4_train_results$residual_squared)\n",
    "\n",
    "#  RMSE\n",
    "model4_rmse <- sqrt(model4_mse)\n",
    "\n",
    "# Visualise it\n",
    "\n",
    "ggplot(model4_train_results, aes(x = truth, y = pred$.pred)) +  \n",
    "  geom_point(color = \"blue\") +  \n",
    "  labs(x = \"True\", y = \"Predicted\", \n",
    "       title = \"Scatter Plot of Predicted vs. True Values\\n(Precipitation vs. Station Pressure)\")"
   ]
  },
  {
   "cell_type": "markdown",
   "metadata": {},
   "source": [
    "<a id=\"cell9\"></a>\n",
    "## 9. Improve the Model\n",
    "Now, try improving the simple models you created in the previous section. \n",
    "\n",
    "Create at least two more models, each model should use at least one of the different techniques:\n",
    "1. Add more features/predictors\n",
    "2. Add regularization (L1, L2 or a mix)\n",
    "3. Add a polynomial component\n",
    "\n",
    "Also, for each of the models you create, check the model performance using the **training set** and a metric like MSE, RMSE, or R-squared.\n",
    "\n",
    "Consider using `tidymodels` if you choose to add regularization and tune lambda.\n"
   ]
  },
  {
   "cell_type": "code",
   "execution_count": 26,
   "metadata": {},
   "outputs": [
    {
     "name": "stdout",
     "output_type": "stream",
     "text": [
      "[1] \"The MSE of model 5  is: 0.00130497118932813\"\n",
      "[1] \"The RMSE of model 5  is: 0.0361243849681642\"\n",
      "[1] \"The R-squared of model 5 is: 0.0243456807759406\"\n"
     ]
    }
   ],
   "source": [
    "# Model 5: precip ~ relative_humidity + wind_speed\n",
    "model5 <- lm(precip ~ relative_humidity + wind_speed , data = train_data)\n",
    "\n",
    "train_model5 <- train_data %>%\n",
    "  mutate(pred = predict(model5, new_data = train_data))\n",
    "\n",
    "residuals_model5_training <- train_data$precip - train_model5$pred\n",
    "mse_model5_training <- mean(residuals_model5_training ^ 2)\n",
    "rmse_of_model5 <- train_model5 %>%  rmse(truth = precip, estimate = pred)\n",
    "rsq_of_model5 <-  rsq(train_model5, truth = precip, estimate = pred)\n",
    "\n",
    "print(paste(\"The MSE of model 5  is:\", mse_model5_training))\n",
    "print(paste(\"The RMSE of model 5  is:\", rmse_of_model5$.estimate))\n",
    "print(paste(\"The R-squared of model 5 is:\", rsq_of_model5$.estimate))"
   ]
  },
  {
   "cell_type": "code",
   "execution_count": 27,
   "metadata": {},
   "outputs": [
    {
     "name": "stderr",
     "output_type": "stream",
     "text": [
      "Warning message in mean.default((model6_train_predictions - train_data$precip)^2):\n",
      "\"argument is not numeric or logical: returning NA\"\n"
     ]
    },
    {
     "name": "stdout",
     "output_type": "stream",
     "text": [
      "[1] \"The RMSE of model 6 is: 0.0363710898241124\"\n",
      "[1] \"The R-squared of model 6 is: 0.0109740725316146\"\n",
      "[1] \"The MSE of model 6 is: 0.00132285617499365\"\n"
     ]
    }
   ],
   "source": [
    "#   Model 6 Ridge (L2) regularization\n",
    "weather_precip_recipe <- recipe(precip ~ ., data = train_data)\n",
    "\n",
    "ridge_spec <- linear_reg(penalty = 0.1 , mixture = 0) %>% set_engine(\"glmnet\")\n",
    "ridge_wf <- workflow() %>% add_recipe(weather_precip_recipe)\n",
    "model6_ridge_fit <- ridge_wf %>%  add_model(ridge_spec) %>%  fit(data = train_data)\n",
    "\n",
    "model6_train_predictions <- predict(model6_ridge_fit, new_data = train_data)\n",
    "\n",
    "train_rmse <- sqrt(mean((model6_train_predictions - train_data$precip)^2))\n",
    "\n",
    "#  Calculation of  regression metrics for model2\n",
    "\n",
    "residuals_model6_training <- train_data$precip - model6_train_predictions$.pred\n",
    "mse_model6_training <- mean(residuals_model6_training ^ 2)\n",
    "rmse_model6_training <- sqrt(mse_model6_training )\n",
    "rsq_model6_training <- 1 - sum(residuals_model6_training^2) / sum((train_data$precip  - mean(train_data$precip ))^2)\n",
    "\n",
    "print(paste(\"The RMSE of model 6 is:\", rmse_model6_training))\n",
    "print(paste(\"The R-squared of model 6 is:\", rsq_model6_training))\n",
    "print(paste(\"The MSE of model 6 is:\", mse_model6_training))"
   ]
  },
  {
   "cell_type": "code",
   "execution_count": 30,
   "metadata": {},
   "outputs": [
    {
     "name": "stdout",
     "output_type": "stream",
     "text": [
      "[1] \"The RMSE of model 7 is: 0.0365723170475973\"\n",
      "[1] \"The R-squared of model 6 is: 0\"\n",
      "[1] \"The MSE of model 7 is: 0.00133753437422998\"\n"
     ]
    }
   ],
   "source": [
    "#   Model 7 Lasso (L1) regularization ***\n",
    "\n",
    "weather_precip_recipe <- recipe(precip ~ ., data = train_data)\n",
    "lasso_spec <- linear_reg(penalty = 0.1, mixture = 1) %>% set_engine(\"glmnet\") \n",
    "lasso_wf <- workflow() %>% add_recipe(weather_precip_recipe) \n",
    "model7_lasso_fit <- lasso_wf %>% add_model(lasso_spec) %>% fit(data = train_data)\n",
    "\n",
    "model7_train_predictions <- predict(model7_lasso_fit, new_data = train_data)\n",
    "\n",
    "#  Calculation of  regression metrics for model2\n",
    "\n",
    "residuals_model7_training <- train_data$precip - model7_train_predictions$.pred\n",
    "mse_model7_training <- mean(residuals_model7_training  ^ 2)\n",
    "rmse_model7_training <- sqrt(mse_model7_training )\n",
    "rsq_model7_training <- 1 - sum(residuals_model7_training^2) / sum((train_data$precip  - mean(train_data$precip ))^2)\n",
    "\n",
    "print(paste(\"The RMSE of model 7 is:\", rmse_model7_training))\n",
    "print(paste(\"The R-squared of model 6 is:\", rsq_model7_training))\n",
    "print(paste(\"The MSE of model 7 is:\", mse_model7_training))\n"
   ]
  },
  {
   "cell_type": "markdown",
   "metadata": {},
   "source": [
    "<a id=\"cell10\"></a>\n",
    "## 10. Find Best Model\n",
    "Compare the regression metrics of each model from section 9 to find the best model overall. To do this, \n",
    "\n",
    "1. Evaluate the models on the **testing set** using at least one metric (like MSE, RMSE or R-squared).\n",
    "2. After calculating the metrics on the testing set for each model, print them out in as a table to easily compare. You can use something like:\n",
    "```\n",
    "model_names <- c(\"model_1\", \"model_2\", \"model_3\")\n",
    "train_error <- c(\"model_1_value\", \"model_2_value\", \"model_3_value\")\n",
    "test_error <- c(\"model_1_value\", \"model_2_value\", \"model_3_value\")\n",
    "comparison_df <- data.frame(model_names, train_error, test_error)\n",
    "```\n",
    "3. Finally, from the comparison table you create, conclude which model performed the best.\n"
   ]
  },
  {
   "cell_type": "code",
   "execution_count": 32,
   "metadata": {},
   "outputs": [
    {
     "name": "stdout",
     "output_type": "stream",
     "text": [
      "[1] \"The MSE of model 5 on test data is: 0.000813381315923427\"\n",
      "[1] \"The RMSE of model 5 on test data is: 0.0285198407415509\"\n",
      "[1] \"The R-squared of model 5 on test data is: 0.0589880197018417\"\n"
     ]
    }
   ],
   "source": [
    "# Prediction on test data using Model 5\n",
    "test_model5 <- test_data %>%\n",
    "  mutate(pred = predict(model5, newdata = test_data))\n",
    "\n",
    "# Calculate residuals on test data\n",
    "residuals_model5_test <- test_data$precip - test_model5$pred\n",
    "\n",
    "# Calculate MSE on test data\n",
    "mse_model5_test <- mean(residuals_model5_test ^ 2)\n",
    "\n",
    "# Calculate RMSE on test data\n",
    "rmse_of_model5_test <- test_model5 %>% rmse(truth = precip, estimate = pred)\n",
    "# Calculate R-squared on test data\n",
    "rsq_of_model5_test <- rsq(test_model5, truth = precip, estimate = pred)\n",
    "\n",
    "print(paste(\"The MSE of model 5 on test data is:\", mse_model5_test))\n",
    "print(paste(\"The RMSE of model 5 on test data is:\", rmse_of_model5_test$.estimate))\n",
    "print(paste(\"The R-squared of model 5 on test data is:\", rsq_of_model5_test$.estimate))\n"
   ]
  },
  {
   "cell_type": "code",
   "execution_count": 31,
   "metadata": {},
   "outputs": [
    {
     "name": "stdout",
     "output_type": "stream",
     "text": [
      "[1] \"The MSE of model 6 on test data is: 0.000843629196748132\"\n",
      "[1] \"The RMSE of model 6 on test data is: 0.0290452956044199\"\n",
      "[1] \"The R-squared of model 6 on test data is: 0.0222498832636654\"\n"
     ]
    }
   ],
   "source": [
    "# Prediction on test data using Model 6\n",
    "test_model6 <- test_data %>%\n",
    "  mutate(pred = predict(model6_ridge_fit, new_data = test_data))\n",
    "\n",
    "# Calculate residuals on test data\n",
    "residuals_model6_test <- test_data$precip - test_model6$pred\n",
    "\n",
    "#  MSE on test data\n",
    "mse_model6_test <- mean(residuals_model6_test$.pred ^ 2)\n",
    "#  RMSE on test data\n",
    " rmse_of_model6_test <- sqrt(mse_model6_test)\n",
    "# R-squared on test data\n",
    "rsq_of_model6_test <- 1 - sum(residuals_model6_test^2) / sum((test_data$precip - mean(test_data$precip))^2)\n",
    "\n",
    "print(paste(\"The MSE of model 6 on test data is:\", mse_model6_test))\n",
    "print(paste(\"The RMSE of model 6 on test data is:\", rmse_of_model6_test))\n",
    "print(paste(\"The R-squared of model 6 on test data is:\", rsq_of_model6_test))"
   ]
  },
  {
   "cell_type": "code",
   "execution_count": 33,
   "metadata": {},
   "outputs": [
    {
     "name": "stdout",
     "output_type": "stream",
     "text": [
      "[1] \"The MSE of model 7 on test data is: 0.000843629196748132\"\n",
      "[1] \"The RMSE of model 7 on test data is: 0.0290452956044199\"\n",
      "[1] \"The R-squared of model 7 on test data is: -3.58447114525706e-05\"\n"
     ]
    }
   ],
   "source": [
    "# Prediction on test data using Model 7\n",
    "test_model7 <- test_data %>%\n",
    "  mutate(pred = predict(model7_lasso_fit, new_data = test_data))\n",
    "\n",
    "# Calculate residuals on test data\n",
    "residuals_model7_test <- test_data$precip - test_model7$pred\n",
    "\n",
    "#  MSE on test data\n",
    "mse_model7_test <- mean(residuals_model6_test$.pred ^ 2)\n",
    "\n",
    "#  RMSE on test data\n",
    " rmse_of_model7_test <- sqrt(mse_model7_test)\n",
    "# R-squared on test data\n",
    "rsq_of_model7_test <- 1 - sum(residuals_model7_test^2) / sum((test_data$precip - mean(test_data$precip))^2)\n",
    "\n",
    "print(paste(\"The MSE of model 7 on test data is:\", mse_model7_test))\n",
    "print(paste(\"The RMSE of model 7 on test data is:\", rmse_of_model7_test))\n",
    "print(paste(\"The R-squared of model 7 on test data is:\", rsq_of_model7_test))"
   ]
  },
  {
   "cell_type": "code",
   "execution_count": 37,
   "metadata": {},
   "outputs": [
    {
     "data": {
      "text/html": [
       "<table class=\"dataframe\">\n",
       "<caption>A data.frame: 3 × 4</caption>\n",
       "<thead>\n",
       "\t<tr><th scope=col>Model</th><th scope=col>MSE</th><th scope=col>RMSE</th><th scope=col>R_squared</th></tr>\n",
       "\t<tr><th scope=col>&lt;chr&gt;</th><th scope=col>&lt;dbl&gt;</th><th scope=col>&lt;dbl&gt;</th><th scope=col>&lt;dbl&gt;</th></tr>\n",
       "</thead>\n",
       "<tbody>\n",
       "\t<tr><td>Model 5</td><td>0.0008133813</td><td>0.02851984</td><td> 5.898802e-02</td></tr>\n",
       "\t<tr><td>Model 6</td><td>0.0008436292</td><td>0.02904530</td><td> 2.224988e-02</td></tr>\n",
       "\t<tr><td>Model 7</td><td>0.0008436292</td><td>0.02904530</td><td>-3.584471e-05</td></tr>\n",
       "</tbody>\n",
       "</table>\n"
      ],
      "text/latex": [
       "A data.frame: 3 × 4\n",
       "\\begin{tabular}{llll}\n",
       " Model & MSE & RMSE & R\\_squared\\\\\n",
       " <chr> & <dbl> & <dbl> & <dbl>\\\\\n",
       "\\hline\n",
       "\t Model 5 & 0.0008133813 & 0.02851984 &  5.898802e-02\\\\\n",
       "\t Model 6 & 0.0008436292 & 0.02904530 &  2.224988e-02\\\\\n",
       "\t Model 7 & 0.0008436292 & 0.02904530 & -3.584471e-05\\\\\n",
       "\\end{tabular}\n"
      ],
      "text/markdown": [
       "\n",
       "A data.frame: 3 × 4\n",
       "\n",
       "| Model &lt;chr&gt; | MSE &lt;dbl&gt; | RMSE &lt;dbl&gt; | R_squared &lt;dbl&gt; |\n",
       "|---|---|---|---|\n",
       "| Model 5 | 0.0008133813 | 0.02851984 |  5.898802e-02 |\n",
       "| Model 6 | 0.0008436292 | 0.02904530 |  2.224988e-02 |\n",
       "| Model 7 | 0.0008436292 | 0.02904530 | -3.584471e-05 |\n",
       "\n"
      ],
      "text/plain": [
       "  Model   MSE          RMSE       R_squared    \n",
       "1 Model 5 0.0008133813 0.02851984  5.898802e-02\n",
       "2 Model 6 0.0008436292 0.02904530  2.224988e-02\n",
       "3 Model 7 0.0008436292 0.02904530 -3.584471e-05"
      ]
     },
     "metadata": {},
     "output_type": "display_data"
    },
    {
     "name": "stdout",
     "output_type": "stream",
     "text": [
      "[1] \"Model 5 is considered the best because it has the lowest errors (MSE and RMSE) and explains the most variance in the data (highest R-squared) \"\n"
     ]
    }
   ],
   "source": [
    "# #  comparison between 3 models - data frame\n",
    "# model_names\n",
    "model_names <- c(\"Model 5\", \"Model 6\", \"Model 7\")\n",
    "\n",
    "# RMSE values \n",
    "rmse_values <- c(\n",
    "     rmse_of_model5_test$.estimate,   \n",
    "    rmse_of_model6_test,  \n",
    "    rmse_of_model7_test   \n",
    ")\n",
    "\n",
    "#  R-squared values \n",
    "rsq_values <- c(\n",
    "    rsq_of_model5_test$.estimate,  \n",
    "    rsq_of_model6_test,  \n",
    "    rsq_of_model7_test   \n",
    ")\n",
    "\n",
    "mse_values <- c(\n",
    "    mse_model5_test,  \n",
    "    mse_model6_test,  \n",
    "    mse_model7_test  \n",
    ")\n",
    "\n",
    "\n",
    "#  comparison data frame\n",
    "comparison_df <- data.frame(Model = model_names, MSE = mse_values, RMSE = rmse_values, R_squared = rsq_values)\n",
    "comparison_df\n",
    "\n",
    "print(\"Model 5 is considered the best because it has the lowest errors (MSE and RMSE) and explains the most variance in the data (highest R-squared) \")"
   ]
  },
  {
   "cell_type": "markdown",
   "metadata": {},
   "source": [
    "## Author(s)\n",
    "\n",
    "<h4> Yiwen Li </h4>\n",
    "\n",
    "## Contributions\n",
    "\n",
    "<h4> Tiffany Zhu </h4>\n",
    "\n",
    "## <h3 align=\"center\"> © IBM Corporation 2021. All rights reserved. <h3/>\n"
   ]
  }
 ],
 "metadata": {
  "kernelspec": {
   "display_name": "R",
   "language": "R",
   "name": "ir"
  },
  "language_info": {
   "codemirror_mode": "r",
   "file_extension": ".r",
   "mimetype": "text/x-r-source",
   "name": "R",
   "pygments_lexer": "r",
   "version": "4.3.2"
  }
 },
 "nbformat": 4,
 "nbformat_minor": 4
}
