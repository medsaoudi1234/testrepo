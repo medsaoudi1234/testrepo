# Install tidymodels if you haven't done so
 #install.packages("rlang")
#install.packages("tidymodels")
# Library for modeling
library(tidymodels)

# Load tidyverse
library(tidyverse)

url <- "https://dax-cdn.cdn.appdomain.cloud/dax-noaa-weather-data-jfk-airport/1.1.4/noaa-weather-sample-data.tar.gz"
download.file(url, destfile = "noaa-weather-sample-data.tar.gz")

untar("noaa-weather-sample-data.tar.gz" , tar = "internal")

noaa_weather_sample_data <- read_csv("noaa-weather-sample-data/jfk_weather_sample.csv")

head(noaa_weather_sample_data)
glimpse(noaa_weather_sample_data)

weather_subset <-  noaa_weather_sample_data %>%
  select(HOURLYRelativeHumidity , HOURLYDRYBULBTEMPF , HOURLYPrecip ,  HOURLYWindSpeed ,HOURLYStationPressure)

head(weather_subset)

unique(weather_subset$HOURLYPrecip)


clean_weather_subset <- noaa_weather_sample_data %>%
  mutate(HOURLYPrecip = ifelse(is.na(HOURLYPrecip) | HOURLYPrecip == "T", "0.0", HOURLYPrecip)) %>%
  mutate(HOURLYPrecip = str_remove(HOURLYPrecip, pattern = "s$")) %>%
select(HOURLYRelativeHumidity, HOURLYDRYBULBTEMPF, HOURLYPrecip, HOURLYWindSpeed, HOURLYStationPressure)

unique(clean_weather_subset$HOURLYPrecip)


glimpse(clean_weather_subset)

clean_numeric_weather_subset <- noaa_weather_sample_data %>%
  mutate(HOURLYPrecip = ifelse(is.na(HOURLYPrecip) | HOURLYPrecip == "T", "0.0", str_remove(HOURLYPrecip, pattern = "s$"))) %>%
  mutate(HOURLYPrecip = as.numeric(HOURLYPrecip)) %>%
  select(HOURLYRelativeHumidity, HOURLYDRYBULBTEMPF, HOURLYPrecip, HOURLYWindSpeed, HOURLYStationPressure)

glimpse(clean_numeric_weather_subset)

prepr_weather_subset <- noaa_weather_sample_data %>%
  mutate(precip = ifelse(is.na(HOURLYPrecip) | HOURLYPrecip == "T", "0.0", str_remove(HOURLYPrecip, pattern = "s$")),
         precip = as.numeric(precip)) %>%
  mutate(relative_humidity = ifelse(is.na(HOURLYRelativeHumidity), "0.0", HOURLYRelativeHumidity),
         relative_humidity = as.numeric(relative_humidity)) %>%
  mutate(wind_speed = ifelse(is.na(HOURLYWindSpeed), "0.0", HOURLYWindSpeed),
         wind_speed = as.numeric(wind_speed)) %>%
  mutate(station_pressure = ifelse(is.na(HOURLYStationPressure), "0.0", HOURLYStationPressure),
         station_pressure = as.numeric(station_pressure)) %>%
  mutate(dry_bulb_temp_f = ifelse(is.na(HOURLYDRYBULBTEMPF), "0.0", HOURLYDRYBULBTEMPF),
         dry_bulb_temp_f = as.numeric(dry_bulb_temp_f)) %>%
  select(relative_humidity, dry_bulb_temp_f, precip, wind_speed, station_pressure)

sum(is.na(prepr_weather_subset))


set.seed(1234)
weather_subset_split <- initial_split(prepr_weather_subset , prop = 4/5) 
train_data <- training(weather_subset_split)
test_data <- testing(weather_subset_split)

# 1-Histogram of Relative Humidity

ggplot(train_data, aes(y = relative_humidity)) +
  geom_boxplot(fill = "blue", color = "black") +
  labs(title = "Boxplot of Percentage of Humidity", y = "Percentage of Humidity (%)")

# 2-Histogram of  dry bulb temperature (Fahrenheit)
ggplot(train_data, aes(x = dry_bulb_temp_f)) +
  geom_histogram(fill = "red", color = "black", bins = 30) +
  labs(title = "Histogram of Hourly Dry Bulb Temperature (Fahrenheit)", 
       x = "Temperature (Fahrenheit)", y = "Number of Hours")

# 3- a box plot for wind speed
ggplot(train_data, aes(y = wind_speed)) +
  geom_boxplot(fill = "orange", color = "black") +
  labs(title = "Boxplot of Wind Speed", y = "Wind Speed (mph)")

# 4- a histogram for precipitation
ggplot(train_data, aes(x = precip)) +
  geom_histogram(fill = "green", color = "black", bins = 30) +
  labs(title = "Histogram of Precipitation", x = "Precipitation (inches)", y = "Frequency")

# 5-  a histogram for station pressure
ggplot(train_data, aes(x = station_pressure )) +
  geom_histogram(fill = "purple", color = "black", bins = 30) +
  labs(title = "Histogram of Distribution of Station Pressure",
       x = "Pressure (inches of Mercury)",
       y = "Frequency")


lm_spec <- linear_reg() %>%   set_engine(engine = "lm") 

# Model 1: precip ~ relative_humidity 

model1 <- lm_spec %>% 
  fit(precip ~ relative_humidity, data = train_data) 

# model1_train_results + Square the residuals

model1_train_results <- train_data %>%
    mutate(pred = predict(model1, new_data = train_data)) %>%  
   mutate(truth = precip) %>%
  mutate(residual = truth - pred$.pred)%>%
  mutate(residual_squared = residual^2)

# mean squared residuals
model1_mse <- mean(model1_train_results$residual_squared)

#  RMSE
model1_rmse <- sqrt(model1_mse)

# Visualise it

ggplot(model1_train_results, aes(x = truth, y = pred$.pred )) +
  geom_point(color = "blue") +  
  labs(x = "True", y = "Predicted", 
       title = "Scatter Plot of Predicted vs. True Values\n(Precipitation vs. Relative Humidity)")



# Model 2: precip ~ dry_bulb_temp_f
model2 <- lm_spec %>% 
  fit(precip ~ dry_bulb_temp_f, data = train_data)

# model2_training_results with Square the residuals

model2_train_results <- train_data %>%
mutate(pred = predict(model2, new_data = train_data)) %>%  
mutate(truth = precip) %>% 
mutate(residual = truth - pred$.pred) %>% 
mutate(residual_squared = residual^2)

# mean squared residuals
model2_mse <- mean(model2_train_results$residual_squared)

# RMSE
model2_rmse <- sqrt(model2_mse)

# Visualise it

ggplot(model2_train_results, aes(x = truth , y = pred$.pred)) +
  geom_point(color = "red") +  
  labs(x = "True", y =  "Predicted", 
       title = "Scatter Plot of Predicted vs. True Values\n(Precipitation vs. dry_bulb_temp_f)")



# Model 3: precip ~ wind_speed
model3 <- lm_spec %>% 
  fit(precip ~ wind_speed, data = train_data)

model3_train_results <- train_data %>%
  mutate(pred = predict(model3, new_data = train_data)) %>%  mutate(truth = precip) %>% 
mutate(residual = truth - pred$.pred) %>% 
mutate(residual_squared = residual^2)


#  mean squared residuals
model3_mse <- mean(model3_train_results$residual_squared)

#  RMSE
model3_rmse <- sqrt(model3_mse)

# Visualise it

ggplot(model3_train_results, aes(x = truth , y = pred$.pred)) +
  geom_point(color = "red") +  
  labs(x = "True", y =  "Predicted", 
       title = "Scatter Plot of Predicted vs. True Values\n(Precipitation vs. Wind Speed)")


# Model 4: precip ~ station_pressure
model4 <- lm_spec %>% 
  fit(precip ~ station_pressure, data = train_data)

# model4_train_results + Square the residuals
model4_train_results <- train_data %>%
  mutate(pred = predict(model4, new_data = train_data)) %>%  mutate(truth = precip) %>%
  mutate(residual = truth - pred$.pred) %>%
  mutate(residual_squared = residual^2)

#  mean squared residuals
model4_mse <- mean(model4_train_results$residual_squared)

#  RMSE
model4_rmse <- sqrt(model4_mse)

# Visualise it

ggplot(model4_train_results, aes(x = truth, y = pred$.pred)) +  
  geom_point(color = "blue") +  
  labs(x = "True", y = "Predicted", 
       title = "Scatter Plot of Predicted vs. True Values\n(Precipitation vs. Station Pressure)")



# Model 5: precip ~ relative_humidity + wind_speed
model5 <- lm(precip ~ relative_humidity + wind_speed , data = train_data)

train_model5 <- train_data %>%
  mutate(pred = predict(model5, new_data = train_data))

residuals_model5_training <- train_data$precip - train_model5$pred
mse_model5_training <- mean(residuals_model5_training ^ 2)
rmse_of_model5 <- train_model5 %>%  rmse(truth = precip, estimate = pred)
rsq_of_model5 <-  rsq(train_model5, truth = precip, estimate = pred)

print(paste("The MSE of model 5  is:", mse_model5_training))
print(paste("The RMSE of model 5  is:", rmse_of_model5$.estimate))
print(paste("The R-squared of model 5 is:", rsq_of_model5$.estimate))


#   Model 6 Ridge (L2) regularization
weather_precip_recipe <- recipe(precip ~ ., data = train_data)

ridge_spec <- linear_reg(penalty = 0.1 , mixture = 0) %>% set_engine("glmnet")
ridge_wf <- workflow() %>% add_recipe(weather_precip_recipe)
model6_ridge_fit <- ridge_wf %>%  add_model(ridge_spec) %>%  fit(data = train_data)

model6_train_predictions <- predict(model6_ridge_fit, new_data = train_data)

train_rmse <- sqrt(mean((model6_train_predictions - train_data$precip)^2))

#  Calculation of  regression metrics for model2

residuals_model6_training <- train_data$precip - model6_train_predictions$.pred
mse_model6_training <- mean(residuals_model6_training ^ 2)
rmse_model6_training <- sqrt(mse_model6_training )
rsq_model6_training <- 1 - sum(residuals_model6_training^2) / sum((train_data$precip  - mean(train_data$precip ))^2)

print(paste("The RMSE of model 6 is:", rmse_model6_training))
print(paste("The R-squared of model 6 is:", rsq_model6_training))
print(paste("The MSE of model 6 is:", mse_model6_training))


#   Model 7 Lasso (L1) regularization ***

weather_precip_recipe <- recipe(precip ~ ., data = train_data)
lasso_spec <- linear_reg(penalty = 0.1, mixture = 1) %>% set_engine("glmnet") 
lasso_wf <- workflow() %>% add_recipe(weather_precip_recipe) 
model7_lasso_fit <- lasso_wf %>% add_model(lasso_spec) %>% fit(data = train_data)

model7_train_predictions <- predict(model7_lasso_fit, new_data = train_data)

#  Calculation of  regression metrics for model2

residuals_model7_training <- train_data$precip - model7_train_predictions$.pred
mse_model7_training <- mean(residuals_model7_training  ^ 2)
rmse_model7_training <- sqrt(mse_model7_training )
rsq_model7_training <- 1 - sum(residuals_model7_training^2) / sum((train_data$precip  - mean(train_data$precip ))^2)

print(paste("The RMSE of model 7 is:", rmse_model7_training))
print(paste("The R-squared of model 6 is:", rsq_model7_training))
print(paste("The MSE of model 7 is:", mse_model7_training))




# Prediction on test data using Model 5
test_model5 <- test_data %>%
  mutate(pred = predict(model5, newdata = test_data))

# Calculate residuals on test data
residuals_model5_test <- test_data$precip - test_model5$pred

# Calculate MSE on test data
mse_model5_test <- mean(residuals_model5_test ^ 2)

# Calculate RMSE on test data
rmse_of_model5_test <- test_model5 %>% rmse(truth = precip, estimate = pred)
# Calculate R-squared on test data
rsq_of_model5_test <- rsq(test_model5, truth = precip, estimate = pred)

print(paste("The MSE of model 5 on test data is:", mse_model5_test))
print(paste("The RMSE of model 5 on test data is:", rmse_of_model5_test$.estimate))
print(paste("The R-squared of model 5 on test data is:", rsq_of_model5_test$.estimate))


# Prediction on test data using Model 6
test_model6 <- test_data %>%
  mutate(pred = predict(model6_ridge_fit, new_data = test_data))

# Calculate residuals on test data
residuals_model6_test <- test_data$precip - test_model6$pred

#  MSE on test data
mse_model6_test <- mean(residuals_model6_test$.pred ^ 2)
#  RMSE on test data
 rmse_of_model6_test <- sqrt(mse_model6_test)
# R-squared on test data
rsq_of_model6_test <- 1 - sum(residuals_model6_test^2) / sum((test_data$precip - mean(test_data$precip))^2)

print(paste("The MSE of model 6 on test data is:", mse_model6_test))
print(paste("The RMSE of model 6 on test data is:", rmse_of_model6_test))
print(paste("The R-squared of model 6 on test data is:", rsq_of_model6_test))



# Prediction on test data using Model 7
test_model7 <- test_data %>%
  mutate(pred = predict(model7_lasso_fit, new_data = test_data))

# Calculate residuals on test data
residuals_model7_test <- test_data$precip - test_model7$pred

#  MSE on test data
mse_model7_test <- mean(residuals_model6_test$.pred ^ 2)

#  RMSE on test data
 rmse_of_model7_test <- sqrt(mse_model7_test)
# R-squared on test data
rsq_of_model7_test <- 1 - sum(residuals_model7_test^2) / sum((test_data$precip - mean(test_data$precip))^2)

print(paste("The MSE of model 7 on test data is:", mse_model7_test))
print(paste("The RMSE of model 7 on test data is:", rmse_of_model7_test))
print(paste("The R-squared of model 7 on test data is:", rsq_of_model7_test))



# #  comparison between 3 models - data frame
# model_names
model_names <- c("Model 5", "Model 6", "Model 7")

# RMSE values 
rmse_values <- c(
     rmse_of_model5_test$.estimate,   
    rmse_of_model6_test,  
    rmse_of_model7_test   
)

#  R-squared values 
rsq_values <- c(
    rsq_of_model5_test$.estimate,  
    rsq_of_model6_test,  
    rsq_of_model7_test   
)

mse_values <- c(
    mse_model5_test,  
    mse_model6_test,  
    mse_model7_test  
)


#  comparison data frame
comparison_df <- data.frame(Model = model_names, MSE = mse_values, RMSE = rmse_values, R_squared = rsq_values)
comparison_df

print("Model 5 is considered the best because it has the lowest errors (MSE and RMSE) and explains the most variance in the data (highest R-squared) ")


























































































